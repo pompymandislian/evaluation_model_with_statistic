{
  "nbformat": 4,
  "nbformat_minor": 0,
  "metadata": {
    "colab": {
      "provenance": []
    },
    "kernelspec": {
      "name": "python3",
      "display_name": "Python 3"
    },
    "language_info": {
      "name": "python"
    }
  },
  "cells": [
    {
      "cell_type": "code",
      "execution_count": null,
      "metadata": {
        "colab": {
          "base_uri": "https://localhost:8080/"
        },
        "id": "sP9BUWsEAAE2",
        "outputId": "f2e61a9b-3f1f-4c37-9e88-adbf9bee621b"
      },
      "outputs": [
        {
          "output_type": "stream",
          "name": "stdout",
          "text": [
            "   feature_1  feature_2  feature_3 feature_4 feature_5  target\n",
            "0  54.967142  16.748258          1         C         Y       0\n",
            "1  48.617357  10.456784          1         B         X       0\n",
            "2  56.476885  63.643025          0         B         X       1\n",
            "3  65.230299  70.647573          1         B         Y       1\n",
            "4  47.658466   3.158614          1         B         Y       0\n"
          ]
        }
      ],
      "source": [
        "import pandas as pd\n",
        "import numpy as np\n",
        "\n",
        "# random seet\n",
        "np.random.seed(42)\n",
        "\n",
        "# Jumlah data\n",
        "n = 1000\n",
        "\n",
        "# Generate fitur numerik acak\n",
        "feature_1 = np.random.normal(loc=50, scale=10, size=n)  # misal umur\n",
        "feature_2 = np.random.uniform(0, 100, size=n)           # misal skor\n",
        "feature_3 = np.random.randint(0, 2, size=n)             # misal biner\n",
        "\n",
        "# Generate fitur kategorikal acak\n",
        "feature_4 = np.random.choice(['A', 'B', 'C'], size=n)\n",
        "feature_5 = np.random.choice(['X', 'Y'], size=n)\n",
        "\n",
        "# Generate target biner (0 atau 1)\n",
        "y = (feature_1 + feature_2 + feature_3*10 > 100).astype(int)\n",
        "\n",
        "# Buat DataFrame\n",
        "df = pd.DataFrame({\n",
        "    'feature_1': feature_1,\n",
        "    'feature_2': feature_2,\n",
        "    'feature_3': feature_3,\n",
        "    'feature_4': feature_4,\n",
        "    'feature_5': feature_5,\n",
        "    'target': y\n",
        "})\n",
        "\n",
        "print(df.head())"
      ]
    },
    {
      "cell_type": "code",
      "source": [
        "# split data\n",
        "from sklearn.model_selection import train_test_split\n",
        "\n",
        "# split x and y\n",
        "X = df.drop('target', axis=1)\n",
        "y = df['target']\n",
        "\n",
        "# split data\n",
        "X_train, X_test, y_train, y_test = train_test_split(\n",
        "    X, y, test_size=0.2, random_state=42, stratify=y\n",
        ")\n",
        "\n",
        "# Cek ukuran dataset\n",
        "print(\"Train shape:\", X_train.shape, y_train.shape)\n",
        "print(\"Test shape:\", X_test.shape, y_test.shape)"
      ],
      "metadata": {
        "colab": {
          "base_uri": "https://localhost:8080/"
        },
        "id": "bVRkBa99AsZ0",
        "outputId": "cbf2a9e5-d7e2-40c1-92b6-ddbc6ffb73fd"
      },
      "execution_count": null,
      "outputs": [
        {
          "output_type": "stream",
          "name": "stdout",
          "text": [
            "Train shape: (800, 5) (800,)\n",
            "Test shape: (200, 5) (200,)\n"
          ]
        }
      ]
    },
    {
      "cell_type": "code",
      "source": [
        "from sklearn.preprocessing import MinMaxScaler, OneHotEncoder\n",
        "from sklearn.compose import ColumnTransformer\n",
        "\n",
        "# Tentukan kolom\n",
        "numeric_features = ['feature_1', 'feature_2', 'feature_3']\n",
        "categorical_features = ['feature_4', 'feature_5']\n",
        "\n",
        "# Buat preprocessor\n",
        "preprocessor = ColumnTransformer(\n",
        "    transformers=[\n",
        "        ('num', MinMaxScaler(), numeric_features),\n",
        "        ('cat', OneHotEncoder(), categorical_features)\n",
        "    ]\n",
        ")\n",
        "\n",
        "# Fit dan transform data train\n",
        "X_train_scaled = preprocessor.fit_transform(X_train)\n",
        "\n",
        "# Transform test\n",
        "X_test_scaled = preprocessor.transform(X_test)\n",
        "\n",
        "# Cek hasil\n",
        "print(\"Shape X_train_scaled:\", X_train_scaled.shape)\n",
        "print(\"Shape X_test_scaled:\", X_test_scaled.shape)"
      ],
      "metadata": {
        "colab": {
          "base_uri": "https://localhost:8080/"
        },
        "id": "INP7_6zgBBUy",
        "outputId": "5acb9bdf-db26-402c-d9b3-633e812f087e"
      },
      "execution_count": null,
      "outputs": [
        {
          "output_type": "stream",
          "name": "stdout",
          "text": [
            "Shape X_train_scaled: (800, 8)\n",
            "Shape X_test_scaled: (200, 8)\n"
          ]
        }
      ]
    },
    {
      "cell_type": "code",
      "source": [
        "X_train.head()"
      ],
      "metadata": {
        "colab": {
          "base_uri": "https://localhost:8080/",
          "height": 206
        },
        "id": "CrA9TReABGG1",
        "outputId": "5ea2fb8d-4ca0-4653-ce7a-d3dc6c840399"
      },
      "execution_count": null,
      "outputs": [
        {
          "output_type": "execute_result",
          "data": {
            "text/plain": [
              "     feature_1  feature_2  feature_3 feature_4 feature_5\n",
              "802  50.961208  79.791416          1         A         X\n",
              "351  64.753562  82.606763          0         C         X\n",
              "22   50.675282   8.162998          0         B         Y\n",
              "542  55.298042  92.808364          0         B         X\n",
              "199  38.570297  66.821280          0         B         Y"
            ],
            "text/html": [
              "\n",
              "  <div id=\"df-aeb4250b-5905-44a7-915f-00c20090206f\" class=\"colab-df-container\">\n",
              "    <div>\n",
              "<style scoped>\n",
              "    .dataframe tbody tr th:only-of-type {\n",
              "        vertical-align: middle;\n",
              "    }\n",
              "\n",
              "    .dataframe tbody tr th {\n",
              "        vertical-align: top;\n",
              "    }\n",
              "\n",
              "    .dataframe thead th {\n",
              "        text-align: right;\n",
              "    }\n",
              "</style>\n",
              "<table border=\"1\" class=\"dataframe\">\n",
              "  <thead>\n",
              "    <tr style=\"text-align: right;\">\n",
              "      <th></th>\n",
              "      <th>feature_1</th>\n",
              "      <th>feature_2</th>\n",
              "      <th>feature_3</th>\n",
              "      <th>feature_4</th>\n",
              "      <th>feature_5</th>\n",
              "    </tr>\n",
              "  </thead>\n",
              "  <tbody>\n",
              "    <tr>\n",
              "      <th>802</th>\n",
              "      <td>50.961208</td>\n",
              "      <td>79.791416</td>\n",
              "      <td>1</td>\n",
              "      <td>A</td>\n",
              "      <td>X</td>\n",
              "    </tr>\n",
              "    <tr>\n",
              "      <th>351</th>\n",
              "      <td>64.753562</td>\n",
              "      <td>82.606763</td>\n",
              "      <td>0</td>\n",
              "      <td>C</td>\n",
              "      <td>X</td>\n",
              "    </tr>\n",
              "    <tr>\n",
              "      <th>22</th>\n",
              "      <td>50.675282</td>\n",
              "      <td>8.162998</td>\n",
              "      <td>0</td>\n",
              "      <td>B</td>\n",
              "      <td>Y</td>\n",
              "    </tr>\n",
              "    <tr>\n",
              "      <th>542</th>\n",
              "      <td>55.298042</td>\n",
              "      <td>92.808364</td>\n",
              "      <td>0</td>\n",
              "      <td>B</td>\n",
              "      <td>X</td>\n",
              "    </tr>\n",
              "    <tr>\n",
              "      <th>199</th>\n",
              "      <td>38.570297</td>\n",
              "      <td>66.821280</td>\n",
              "      <td>0</td>\n",
              "      <td>B</td>\n",
              "      <td>Y</td>\n",
              "    </tr>\n",
              "  </tbody>\n",
              "</table>\n",
              "</div>\n",
              "    <div class=\"colab-df-buttons\">\n",
              "\n",
              "  <div class=\"colab-df-container\">\n",
              "    <button class=\"colab-df-convert\" onclick=\"convertToInteractive('df-aeb4250b-5905-44a7-915f-00c20090206f')\"\n",
              "            title=\"Convert this dataframe to an interactive table.\"\n",
              "            style=\"display:none;\">\n",
              "\n",
              "  <svg xmlns=\"http://www.w3.org/2000/svg\" height=\"24px\" viewBox=\"0 -960 960 960\">\n",
              "    <path d=\"M120-120v-720h720v720H120Zm60-500h600v-160H180v160Zm220 220h160v-160H400v160Zm0 220h160v-160H400v160ZM180-400h160v-160H180v160Zm440 0h160v-160H620v160ZM180-180h160v-160H180v160Zm440 0h160v-160H620v160Z\"/>\n",
              "  </svg>\n",
              "    </button>\n",
              "\n",
              "  <style>\n",
              "    .colab-df-container {\n",
              "      display:flex;\n",
              "      gap: 12px;\n",
              "    }\n",
              "\n",
              "    .colab-df-convert {\n",
              "      background-color: #E8F0FE;\n",
              "      border: none;\n",
              "      border-radius: 50%;\n",
              "      cursor: pointer;\n",
              "      display: none;\n",
              "      fill: #1967D2;\n",
              "      height: 32px;\n",
              "      padding: 0 0 0 0;\n",
              "      width: 32px;\n",
              "    }\n",
              "\n",
              "    .colab-df-convert:hover {\n",
              "      background-color: #E2EBFA;\n",
              "      box-shadow: 0px 1px 2px rgba(60, 64, 67, 0.3), 0px 1px 3px 1px rgba(60, 64, 67, 0.15);\n",
              "      fill: #174EA6;\n",
              "    }\n",
              "\n",
              "    .colab-df-buttons div {\n",
              "      margin-bottom: 4px;\n",
              "    }\n",
              "\n",
              "    [theme=dark] .colab-df-convert {\n",
              "      background-color: #3B4455;\n",
              "      fill: #D2E3FC;\n",
              "    }\n",
              "\n",
              "    [theme=dark] .colab-df-convert:hover {\n",
              "      background-color: #434B5C;\n",
              "      box-shadow: 0px 1px 3px 1px rgba(0, 0, 0, 0.15);\n",
              "      filter: drop-shadow(0px 1px 2px rgba(0, 0, 0, 0.3));\n",
              "      fill: #FFFFFF;\n",
              "    }\n",
              "  </style>\n",
              "\n",
              "    <script>\n",
              "      const buttonEl =\n",
              "        document.querySelector('#df-aeb4250b-5905-44a7-915f-00c20090206f button.colab-df-convert');\n",
              "      buttonEl.style.display =\n",
              "        google.colab.kernel.accessAllowed ? 'block' : 'none';\n",
              "\n",
              "      async function convertToInteractive(key) {\n",
              "        const element = document.querySelector('#df-aeb4250b-5905-44a7-915f-00c20090206f');\n",
              "        const dataTable =\n",
              "          await google.colab.kernel.invokeFunction('convertToInteractive',\n",
              "                                                    [key], {});\n",
              "        if (!dataTable) return;\n",
              "\n",
              "        const docLinkHtml = 'Like what you see? Visit the ' +\n",
              "          '<a target=\"_blank\" href=https://colab.research.google.com/notebooks/data_table.ipynb>data table notebook</a>'\n",
              "          + ' to learn more about interactive tables.';\n",
              "        element.innerHTML = '';\n",
              "        dataTable['output_type'] = 'display_data';\n",
              "        await google.colab.output.renderOutput(dataTable, element);\n",
              "        const docLink = document.createElement('div');\n",
              "        docLink.innerHTML = docLinkHtml;\n",
              "        element.appendChild(docLink);\n",
              "      }\n",
              "    </script>\n",
              "  </div>\n",
              "\n",
              "\n",
              "    <div id=\"df-66b834ec-f72d-4102-bb16-94990f4599bf\">\n",
              "      <button class=\"colab-df-quickchart\" onclick=\"quickchart('df-66b834ec-f72d-4102-bb16-94990f4599bf')\"\n",
              "                title=\"Suggest charts\"\n",
              "                style=\"display:none;\">\n",
              "\n",
              "<svg xmlns=\"http://www.w3.org/2000/svg\" height=\"24px\"viewBox=\"0 0 24 24\"\n",
              "     width=\"24px\">\n",
              "    <g>\n",
              "        <path d=\"M19 3H5c-1.1 0-2 .9-2 2v14c0 1.1.9 2 2 2h14c1.1 0 2-.9 2-2V5c0-1.1-.9-2-2-2zM9 17H7v-7h2v7zm4 0h-2V7h2v10zm4 0h-2v-4h2v4z\"/>\n",
              "    </g>\n",
              "</svg>\n",
              "      </button>\n",
              "\n",
              "<style>\n",
              "  .colab-df-quickchart {\n",
              "      --bg-color: #E8F0FE;\n",
              "      --fill-color: #1967D2;\n",
              "      --hover-bg-color: #E2EBFA;\n",
              "      --hover-fill-color: #174EA6;\n",
              "      --disabled-fill-color: #AAA;\n",
              "      --disabled-bg-color: #DDD;\n",
              "  }\n",
              "\n",
              "  [theme=dark] .colab-df-quickchart {\n",
              "      --bg-color: #3B4455;\n",
              "      --fill-color: #D2E3FC;\n",
              "      --hover-bg-color: #434B5C;\n",
              "      --hover-fill-color: #FFFFFF;\n",
              "      --disabled-bg-color: #3B4455;\n",
              "      --disabled-fill-color: #666;\n",
              "  }\n",
              "\n",
              "  .colab-df-quickchart {\n",
              "    background-color: var(--bg-color);\n",
              "    border: none;\n",
              "    border-radius: 50%;\n",
              "    cursor: pointer;\n",
              "    display: none;\n",
              "    fill: var(--fill-color);\n",
              "    height: 32px;\n",
              "    padding: 0;\n",
              "    width: 32px;\n",
              "  }\n",
              "\n",
              "  .colab-df-quickchart:hover {\n",
              "    background-color: var(--hover-bg-color);\n",
              "    box-shadow: 0 1px 2px rgba(60, 64, 67, 0.3), 0 1px 3px 1px rgba(60, 64, 67, 0.15);\n",
              "    fill: var(--button-hover-fill-color);\n",
              "  }\n",
              "\n",
              "  .colab-df-quickchart-complete:disabled,\n",
              "  .colab-df-quickchart-complete:disabled:hover {\n",
              "    background-color: var(--disabled-bg-color);\n",
              "    fill: var(--disabled-fill-color);\n",
              "    box-shadow: none;\n",
              "  }\n",
              "\n",
              "  .colab-df-spinner {\n",
              "    border: 2px solid var(--fill-color);\n",
              "    border-color: transparent;\n",
              "    border-bottom-color: var(--fill-color);\n",
              "    animation:\n",
              "      spin 1s steps(1) infinite;\n",
              "  }\n",
              "\n",
              "  @keyframes spin {\n",
              "    0% {\n",
              "      border-color: transparent;\n",
              "      border-bottom-color: var(--fill-color);\n",
              "      border-left-color: var(--fill-color);\n",
              "    }\n",
              "    20% {\n",
              "      border-color: transparent;\n",
              "      border-left-color: var(--fill-color);\n",
              "      border-top-color: var(--fill-color);\n",
              "    }\n",
              "    30% {\n",
              "      border-color: transparent;\n",
              "      border-left-color: var(--fill-color);\n",
              "      border-top-color: var(--fill-color);\n",
              "      border-right-color: var(--fill-color);\n",
              "    }\n",
              "    40% {\n",
              "      border-color: transparent;\n",
              "      border-right-color: var(--fill-color);\n",
              "      border-top-color: var(--fill-color);\n",
              "    }\n",
              "    60% {\n",
              "      border-color: transparent;\n",
              "      border-right-color: var(--fill-color);\n",
              "    }\n",
              "    80% {\n",
              "      border-color: transparent;\n",
              "      border-right-color: var(--fill-color);\n",
              "      border-bottom-color: var(--fill-color);\n",
              "    }\n",
              "    90% {\n",
              "      border-color: transparent;\n",
              "      border-bottom-color: var(--fill-color);\n",
              "    }\n",
              "  }\n",
              "</style>\n",
              "\n",
              "      <script>\n",
              "        async function quickchart(key) {\n",
              "          const quickchartButtonEl =\n",
              "            document.querySelector('#' + key + ' button');\n",
              "          quickchartButtonEl.disabled = true;  // To prevent multiple clicks.\n",
              "          quickchartButtonEl.classList.add('colab-df-spinner');\n",
              "          try {\n",
              "            const charts = await google.colab.kernel.invokeFunction(\n",
              "                'suggestCharts', [key], {});\n",
              "          } catch (error) {\n",
              "            console.error('Error during call to suggestCharts:', error);\n",
              "          }\n",
              "          quickchartButtonEl.classList.remove('colab-df-spinner');\n",
              "          quickchartButtonEl.classList.add('colab-df-quickchart-complete');\n",
              "        }\n",
              "        (() => {\n",
              "          let quickchartButtonEl =\n",
              "            document.querySelector('#df-66b834ec-f72d-4102-bb16-94990f4599bf button');\n",
              "          quickchartButtonEl.style.display =\n",
              "            google.colab.kernel.accessAllowed ? 'block' : 'none';\n",
              "        })();\n",
              "      </script>\n",
              "    </div>\n",
              "\n",
              "    </div>\n",
              "  </div>\n"
            ],
            "application/vnd.google.colaboratory.intrinsic+json": {
              "type": "dataframe",
              "variable_name": "X_train",
              "summary": "{\n  \"name\": \"X_train\",\n  \"rows\": 800,\n  \"fields\": [\n    {\n      \"column\": \"feature_1\",\n      \"properties\": {\n        \"dtype\": \"number\",\n        \"std\": 9.86782837552192,\n        \"min\": 17.58732659930927,\n        \"max\": 88.52731490654722,\n        \"num_unique_values\": 800,\n        \"samples\": [\n          53.61636025047634,\n          59.75545127122359,\n          41.83064329012764\n        ],\n        \"semantic_type\": \"\",\n        \"description\": \"\"\n      }\n    },\n    {\n      \"column\": \"feature_2\",\n      \"properties\": {\n        \"dtype\": \"number\",\n        \"std\": 28.57632575665255,\n        \"min\": 0.32182636042786816,\n        \"max\": 99.83475113929497,\n        \"num_unique_values\": 800,\n        \"samples\": [\n          73.3113022415281,\n          87.34232380816606,\n          44.70555438064254\n        ],\n        \"semantic_type\": \"\",\n        \"description\": \"\"\n      }\n    },\n    {\n      \"column\": \"feature_3\",\n      \"properties\": {\n        \"dtype\": \"number\",\n        \"std\": 0,\n        \"min\": 0,\n        \"max\": 1,\n        \"num_unique_values\": 2,\n        \"samples\": [\n          0,\n          1\n        ],\n        \"semantic_type\": \"\",\n        \"description\": \"\"\n      }\n    },\n    {\n      \"column\": \"feature_4\",\n      \"properties\": {\n        \"dtype\": \"category\",\n        \"num_unique_values\": 3,\n        \"samples\": [\n          \"A\",\n          \"C\"\n        ],\n        \"semantic_type\": \"\",\n        \"description\": \"\"\n      }\n    },\n    {\n      \"column\": \"feature_5\",\n      \"properties\": {\n        \"dtype\": \"category\",\n        \"num_unique_values\": 2,\n        \"samples\": [\n          \"Y\",\n          \"X\"\n        ],\n        \"semantic_type\": \"\",\n        \"description\": \"\"\n      }\n    }\n  ]\n}"
            }
          },
          "metadata": {},
          "execution_count": 7
        }
      ]
    },
    {
      "cell_type": "code",
      "source": [
        "X_train_scaled"
      ],
      "metadata": {
        "colab": {
          "base_uri": "https://localhost:8080/"
        },
        "id": "_IXx9iAOBDkd",
        "outputId": "07a77e71-f38f-44cc-940c-3b778ec1aa55"
      },
      "execution_count": null,
      "outputs": [
        {
          "output_type": "execute_result",
          "data": {
            "text/plain": [
              "array([[0.47045231, 0.79858561, 1.        , ..., 0.        , 1.        ,\n",
              "        0.        ],\n",
              "       [0.66487515, 0.82687688, 0.        , ..., 1.        , 1.        ,\n",
              "        0.        ],\n",
              "       [0.46642178, 0.07879551, 0.        , ..., 0.        , 0.        ,\n",
              "        1.        ],\n",
              "       ...,\n",
              "       [0.57256135, 0.87223466, 0.        , ..., 1.        , 1.        ,\n",
              "        0.        ],\n",
              "       [0.48151194, 0.73677239, 1.        , ..., 0.        , 1.        ,\n",
              "        0.        ],\n",
              "       [0.51687701, 0.50551001, 0.        , ..., 0.        , 0.        ,\n",
              "        1.        ]])"
            ]
          },
          "metadata": {},
          "execution_count": 5
        }
      ]
    },
    {
      "cell_type": "code",
      "source": [
        "from sklearn.linear_model import LogisticRegression\n",
        "from sklearn.tree import DecisionTreeClassifier\n",
        "from sklearn.ensemble import RandomForestClassifier, GradientBoostingClassifier\n",
        "from sklearn.svm import SVC\n",
        "from sklearn.utils import resample\n",
        "from sklearn.base import clone\n",
        "from sklearn.metrics import accuracy_score\n",
        "\n",
        "# define model\n",
        "models = {\n",
        "    \"Logistic Regression\": LogisticRegression(),\n",
        "    \"Decision Tree\": DecisionTreeClassifier(),\n",
        "    \"Random Forest\": RandomForestClassifier(),\n",
        "    \"Gradient Boosting\": GradientBoostingClassifier(),\n",
        "    \"SVM\": SVC(probability=True)\n",
        "}\n",
        "\n",
        "# bias variance\n",
        "def bias_variance_classification(model, X, y, n_bootstrap=50):\n",
        "    n_samples = X.shape[0]\n",
        "    preds = np.zeros((n_samples, n_bootstrap))\n",
        "\n",
        "    for i in range(n_bootstrap):\n",
        "        X_resample, y_resample = resample(X, y, replace=True, n_samples=n_samples)\n",
        "        model_clone = clone(model)\n",
        "        model_clone.fit(X_resample, y_resample)\n",
        "        preds[:, i] = model_clone.predict_proba(X)[:, 1]  # probabilitas kelas 1\n",
        "\n",
        "    y_pred_mean = preds.mean(axis=1)\n",
        "    bias2 = np.mean((y - y_pred_mean)**2)\n",
        "    variance = np.mean(preds.var(axis=1))\n",
        "\n",
        "    return bias2, variance\n",
        "\n",
        "# Dictionary untuk menyimpan model yang sudah fit\n",
        "fitted_models = {}\n",
        "\n",
        "for name, model in models.items():\n",
        "    model.fit(X_train_scaled, y_train)\n",
        "\n",
        "    train_bias2, train_var = bias_variance_classification(model, X_train_scaled, y_train, n_bootstrap=50)\n",
        "    train_acc = accuracy_score(y_train, model.predict(X_train_scaled))\n",
        "\n",
        "    # Simpan model fit\n",
        "    fitted_models[name] = model\n",
        "\n",
        "    print(f\"Model: {name}\")\n",
        "    print(f\"Train Accuracy: {train_acc:.4f}\")\n",
        "    print(f\"Train Bias^2: {train_bias2:.4f}\")\n",
        "    print(f\"Train Variance: {train_var:.4f}\")\n",
        "    print(\"-\"*50)"
      ],
      "metadata": {
        "colab": {
          "base_uri": "https://localhost:8080/"
        },
        "id": "EW8BGv7oBMRZ",
        "outputId": "ecb782c0-a5a8-41ff-dbba-6b9ae87b1e46"
      },
      "execution_count": null,
      "outputs": [
        {
          "output_type": "stream",
          "name": "stdout",
          "text": [
            "Model: Logistic Regression\n",
            "Train Accuracy: 0.9762\n",
            "Train Bias^2: 0.0380\n",
            "Train Variance: 0.0004\n",
            "--------------------------------------------------\n",
            "Model: Decision Tree\n",
            "Train Accuracy: 1.0000\n",
            "Train Bias^2: 0.0027\n",
            "Train Variance: 0.0113\n",
            "--------------------------------------------------\n",
            "Model: Random Forest\n",
            "Train Accuracy: 1.0000\n",
            "Train Bias^2: 0.0074\n",
            "Train Variance: 0.0049\n",
            "--------------------------------------------------\n",
            "Model: Gradient Boosting\n",
            "Train Accuracy: 1.0000\n",
            "Train Bias^2: 0.0032\n",
            "Train Variance: 0.0053\n",
            "--------------------------------------------------\n",
            "Model: SVM\n",
            "Train Accuracy: 0.9850\n",
            "Train Bias^2: 0.0149\n",
            "Train Variance: 0.0047\n",
            "--------------------------------------------------\n"
          ]
        }
      ]
    },
    {
      "cell_type": "code",
      "source": [
        "import matplotlib.pyplot as plt\n",
        "\n",
        "# Dictionary untuk menyimpan bias² dan variance\n",
        "bias_var_results = {}\n",
        "\n",
        "# Hitung bias² dan variance lagi (bisa juga pakai hasil sebelumnya jika sudah disimpan)\n",
        "for name, model in fitted_models.items():\n",
        "    bias2, var = bias_variance_classification(model, X_train_scaled, y_train, n_bootstrap=50)\n",
        "    bias_var_results[name] = (bias2, var)\n",
        "\n",
        "# Siapkan data untuk plot\n",
        "model_names = list(bias_var_results.keys())\n",
        "bias2_values = [bias_var_results[m][0] for m in model_names]\n",
        "variance_values = [bias_var_results[m][1] for m in model_names]\n",
        "\n",
        "# Plot Bias² vs Variance\n",
        "plt.figure(figsize=(10,6))\n",
        "for i, name in enumerate(model_names):\n",
        "    plt.scatter(bias2_values[i], variance_values[i], s=100, label=name)\n",
        "\n",
        "plt.xlabel(\"Bias^2\")\n",
        "plt.ylabel(\"Variance\")\n",
        "plt.title(\"Bias-Variance Trade-off (Train Data)\")\n",
        "plt.legend()\n",
        "plt.grid(True)\n",
        "plt.show()"
      ],
      "metadata": {
        "colab": {
          "base_uri": "https://localhost:8080/",
          "height": 564
        },
        "id": "FQHX9He2EOnB",
        "outputId": "e414f6a8-18c6-42c3-f5a8-be8e6fe24f3e"
      },
      "execution_count": null,
      "outputs": [
        {
          "output_type": "display_data",
          "data": {
            "text/plain": [
              "<Figure size 1000x600 with 1 Axes>"
            ],
            "image/png": "[encoded data removed]"
          },
          "metadata": {}
        }
      ]
    },
    {
      "cell_type": "markdown",
      "source": [
        "**Interpretasi Bias-Variance Trade-off (Train Data)**\n",
        "\n",
        "*1. Logistic Regression*\n",
        "- **Bias² tinggi (~0.038)** → model terlalu sederhana (**underfitting**).  \n",
        "- **Variance sangat rendah (~0.0005)** → prediksi stabil, tidak terlalu terpengaruh oleh data latih.  \n",
        "- Cocok bila ingin model sederhana dengan stabilitas tinggi, tapi akurasinya cenderung terbatas.\n",
        "\n",
        "*2. Decision Tree*\n",
        "- **Bias² sangat rendah (~0.003)** → mampu menangkap pola kompleks.  \n",
        "- **Variance tinggi (~0.012)** → sangat sensitif terhadap data (**overfitting**).  \n",
        "- Sulit digeneralisasi pada data baru.\n",
        "\n",
        "*3. Random Forest*\n",
        "- **Bias² rendah (~0.008)**.  \n",
        "- **Variance cukup rendah (~0.005)**.  \n",
        "- Memberikan **trade-off yang seimbang** → lebih stabil dibandingkan decision tree tunggal.\n",
        "\n",
        "*4. Gradient Boosting*\n",
        "- **Bias² sangat rendah (~0.003–0.004)**.  \n",
        "- **Variance rendah (~0.0053)**.  \n",
        "- Kombinasi yang baik: **kompleksitas terjaga, tidak terlalu underfitting maupun overfitting**.\n",
        "\n",
        "*5. SVM*\n",
        "- **Bias² sedang (~0.016)**.  \n",
        "- **Variance rendah (~0.0046)**.  \n",
        "- Seimbang, tapi tidak sebaik Random Forest/Gradient Boosting dalam trade-off.\n",
        "\n",
        "---\n",
        "\n",
        "**Kesimpulan**\n",
        "- **Logistic Regression** → cenderung **underfit**.  \n",
        "- **Decision Tree** → cenderung **overfit**.  \n",
        "- **Random Forest & Gradient Boosting** → memberikan **trade-off terbaik** (bias rendah + variance rendah).  \n",
        "- **SVM** → moderat, masih seimbang, tapi bukan yang paling optimal.  \n",
        "\n",
        "Berdasarkan grafik, **Gradient Boosting dan Random Forest** adalah kandidat **model terbaik** untuk data ini.\n"
      ],
      "metadata": {
        "id": "QG8MBIlOFB__"
      }
    },
    {
      "cell_type": "markdown",
      "source": [
        "# Statistic Evaluate\n",
        "---"
      ],
      "metadata": {
        "id": "l001jD9dGlPC"
      }
    },
    {
      "cell_type": "code",
      "source": [
        "from sklearn.pipeline import make_pipeline\n",
        "from sklearn.metrics import zero_one_loss"
      ],
      "metadata": {
        "id": "M2bL1w55GrFX"
      },
      "execution_count": null,
      "outputs": []
    },
    {
      "cell_type": "code",
      "source": [
        "def empirical_risk(model, X, y):\n",
        "    \"\"\"0-1 empirical risk: misclassification rate on (X, y).\"\"\"\n",
        "    y_pred = model.predict(X)\n",
        "    return zero_one_loss(y, y_pred)\n",
        "\n",
        "def hoeffding_excess_risk_bound(n, H_size, delta=0.05):\n",
        "    \"\"\"\n",
        "    Theorem 6 (finite H, 0-1 loss):\n",
        "    With prob >= 1-delta, excess risk <= sqrt( 2 (log|H| + log(1/delta)) / n )\n",
        "    \"\"\"\n",
        "    return np.sqrt(2.0 * (np.log(H_size) + np.log(1.0/delta)) / n)\n",
        "\n",
        "def empirical_rademacher_complexity(models, X, y, n_trials=100, random_state=42):\n",
        "    \"\"\"\n",
        "    Empirical Rademacher complexity for function class F={(x,y)->loss_h(x,y)} over a finite set of trained models.\n",
        "    Uses 0-1 loss on the provided sample (X, y).\n",
        "    Returns: Rhat(F(Z1:n)). Expected excess risk bound ≈ 2 * Rhat.\n",
        "    \"\"\"\n",
        "    rng = np.random.default_rng(random_state)\n",
        "    n = len(y)\n",
        "\n",
        "    # Precompute f_h(Zi) for each model: an array shape [n_models, n_samples] with entries in {0,1}\n",
        "    losses = []\n",
        "    for m in models:\n",
        "        y_pred = m.predict(X)\n",
        "        losses.append((y_pred != y).astype(float))\n",
        "    L = np.vstack(losses)  # shape: [M, n]\n",
        "\n",
        "    # Trials over Rademacher variables\n",
        "    vals = []\n",
        "    for _ in range(n_trials):\n",
        "        eps = rng.choice([-1.0, 1.0], size=n)\n",
        "        # For each model, compute (1/n) * sum_i eps_i * f_h(Zi)\n",
        "        scores = (eps * L).sum(axis=1) / n\n",
        "        vals.append(scores.max())\n",
        "\n",
        "    return float(np.mean(vals))"
      ],
      "metadata": {
        "id": "dbgPp4l-GnOu"
      },
      "execution_count": null,
      "outputs": []
    },
    {
      "cell_type": "code",
      "source": [
        "for name, model in fitted_models.items():\n",
        "    train_risk = empirical_risk(model, X_train_scaled, y_train)\n",
        "    test_risk = empirical_risk(model, X_test_scaled, y_test)\n",
        "    gap = test_risk - train_risk\n",
        "    print(f\"{name}\")\n",
        "    print(f\"  Train risk: {train_risk:.4f}\")\n",
        "    print(f\"  Test risk : {test_risk:.4f}\")\n",
        "    print(f\"  Generalization gap: {gap:.4f}\")\n",
        "    print(\"-\"*40)"
      ],
      "metadata": {
        "colab": {
          "base_uri": "https://localhost:8080/"
        },
        "id": "MzSJnjTDG4np",
        "outputId": "a4a67ba8-6a3e-4555-b53b-408e923e3005"
      },
      "execution_count": null,
      "outputs": [
        {
          "output_type": "stream",
          "name": "stdout",
          "text": [
            "Logistic Regression\n",
            "  Train risk: 0.0238\n",
            "  Test risk : 0.0250\n",
            "  Generalization gap: 0.0012\n",
            "----------------------------------------\n",
            "Decision Tree\n",
            "  Train risk: 0.0000\n",
            "  Test risk : 0.0150\n",
            "  Generalization gap: 0.0150\n",
            "----------------------------------------\n",
            "Random Forest\n",
            "  Train risk: 0.0000\n",
            "  Test risk : 0.0400\n",
            "  Generalization gap: 0.0400\n",
            "----------------------------------------\n",
            "Gradient Boosting\n",
            "  Train risk: 0.0000\n",
            "  Test risk : 0.0150\n",
            "  Generalization gap: 0.0150\n",
            "----------------------------------------\n",
            "SVM\n",
            "  Train risk: 0.0150\n",
            "  Test risk : 0.0250\n",
            "  Generalization gap: 0.0100\n",
            "----------------------------------------\n"
          ]
        }
      ]
    },
    {
      "cell_type": "markdown",
      "source": [
        "#### Evaluasi Model: Train Risk, Test Risk, dan Generalization Gap\n",
        "\n",
        "**Interpretasi**\n",
        "\n",
        "*1. Logistic Regression*  \n",
        "- Train risk: 0.0238  \n",
        "- Test risk: 0.0250  \n",
        "- Gap: 0.0012  \n",
        "Risiko di train dan test hampir sama → model stabil, tidak overfitting.\n",
        "\n",
        "---\n",
        "\n",
        "*2. Decision Tree*  \n",
        "- Train risk: 0.0000  \n",
        "- Test risk: 0.0150  \n",
        "- Gap: 0.0150  \n",
        "Error di train nol, tapi muncul gap di test → ada tanda overfit ringan.\n",
        "\n",
        "---\n",
        "\n",
        "*3. Random Forest*  \n",
        "- Train risk: 0.0000  \n",
        "- Test risk: 0.0400  \n",
        "- Gap: 0.0400  \n",
        "Sangat fit di train, tapi gap paling besar → cenderung overfit.\n",
        "\n",
        "---\n",
        "\n",
        "*4. Gradient Boosting*  \n",
        "- Train risk: 0.0000  \n",
        "- Test risk: 0.0150  \n",
        "- Gap: 0.0150  \n",
        "Mirip decision tree, performa train bagus tapi ada gap moderat → agak overfit.\n",
        "\n",
        "---\n",
        "\n",
        "*5. SVM*  \n",
        "- Train risk: 0.0150  \n",
        "- Test risk: 0.0250  \n",
        "- Gap: 0.0100  \n",
        "Tidak memaksa error train jadi nol, gap kecil → generalisasi cukup baik.\n",
        "\n",
        "---\n",
        "\n",
        "**Kesimpulan**  \n",
        "- Logistic Regression dan SVM paling stabil untuk data baru.  \n",
        "- Decision Tree dan Gradient Boosting masih cukup oke, tapi ada overfit ringan.  \n",
        "- Random Forest kelihatan paling gampang goyah karena gap besar.\n"
      ],
      "metadata": {
        "id": "tMhlgFOxInbF"
      }
    },
    {
      "cell_type": "code",
      "source": [
        "n = len(y_train)  # jumlah sampel train\n",
        "H_size = len(fitted_models)  # jumlah model\n",
        "delta = 0.05\n",
        "\n",
        "bound = hoeffding_excess_risk_bound(n, H_size, delta)\n",
        "print(f\"Hoeffding excess risk bound (dengan n={n}, |H|={H_size}): {bound:.4f}\")"
      ],
      "metadata": {
        "colab": {
          "base_uri": "https://localhost:8080/"
        },
        "id": "qWiT_MJJHnTZ",
        "outputId": "c1cd0db6-c3f7-43fc-b069-581536dbbac9"
      },
      "execution_count": null,
      "outputs": [
        {
          "output_type": "stream",
          "name": "stdout",
          "text": [
            "Hoeffding excess risk bound (dengan n=800, |H|=5): 0.1073\n"
          ]
        }
      ]
    },
    {
      "cell_type": "markdown",
      "source": [
        "**Interpretasi Hoeffding Excess Risk Bound (n=800, |H|=5, δ=0.05 → 10.7%)**\n",
        "\n",
        "* Batas 10.7% ini adalah **selisih maksimum** antara error model terbaik (empirical risk terendah) dengan error model yang dipilih dari kelas model tersebut.  \n",
        "* Artinya, jika model terbaik punya error sebesar **E\\***, maka model terpilih dipastikan (dengan probabilitas ≥ 95%) memiliki error tidak lebih dari:  \n",
        "  \\[\n",
        "  E^* + 0.107\n",
        "  \\]  \n",
        "* Contoh: jika model terbaik menghasilkan error **2.5%**, maka error model terpilih tidak akan melebihi **13.2%** (2.5% + 10.7%).  \n",
        "* Dengan kata lain, ada jaminan teoretis bahwa **error tidak akan membengkak terlalu jauh** dari error model terbaik dalam himpunan model yang diuji.\n"
      ],
      "metadata": {
        "id": "A5CPRyM8K6O4"
      }
    },
    {
      "cell_type": "code",
      "source": [
        "models_list = list(fitted_models.values())\n",
        "\n",
        "Rhat = empirical_rademacher_complexity(models_list, X_train_scaled, y_train, n_trials=100)\n",
        "print(f\"Empirical Rademacher complexity: {Rhat:.4f}\")\n",
        "print(f\"Expected excess risk bound (≈ 2*Rhat): {2*Rhat:.4f}\")"
      ],
      "metadata": {
        "colab": {
          "base_uri": "https://localhost:8080/"
        },
        "id": "iyrZ95tYHqUr",
        "outputId": "c2150290-28cf-4a0e-da93-05494601bbb1"
      },
      "execution_count": null,
      "outputs": [
        {
          "output_type": "stream",
          "name": "stdout",
          "text": [
            "Empirical Rademacher complexity: 0.0027\n",
            "Expected excess risk bound (≈ 2*Rhat): 0.0054\n"
          ]
        }
      ]
    },
    {
      "cell_type": "markdown",
      "source": [
        "**Interpretasi Rademacher Complexity (Best Model)**\n",
        "\n",
        "- Nilai *Empirical Rademacher complexity* = **0.0027** menunjukkan bahwa kelas model (H) yang diuji tidak terlalu kompleks. Artinya, kecil kemungkinan model terbaik mengalami overfitting karena fleksibilitas hipotesis yang berlebihan.\n",
        "\n",
        "- Nilai *Expected excess risk bound* ≈ **0.0054 (0.54%)** berarti bahwa jika kita memilih model terbaik dari kelas model tersebut (misalnya Logistic Regression), maka dengan probabilitas tinggi, error pada data baru tidak akan lebih buruk dari error terbaik di training + 0.54%.\n",
        "\n",
        "- Dengan kata lain, performa model terbaik yang dipilih akan sangat dekat dengan performa optimal dalam kelas model itu, dengan deviasi yang sangat kecil (<1%).\n",
        "\n",
        "Kesimpulan: Best model yang dipilih cukup stabil dan memiliki jaminan teoretis bahwa performanya di data masa depan tidak akan jauh berbeda dari performa optimalnya.\n"
      ],
      "metadata": {
        "id": "JdlrsTM-LgM_"
      }
    },
    {
      "cell_type": "markdown",
      "source": [
        "# Kesimpulan Evaluate Stats\n",
        "---"
      ],
      "metadata": {
        "id": "GkPUm8JOXQs_"
      }
    },
    {
      "cell_type": "markdown",
      "source": [
        "*1. Model Terbaik: Gradient Boosting & Random Forest*\n",
        "- **Kelebihan:**\n",
        "  - Bias rendah, variance rendah–sedang → bisa menangkap pola kompleks.\n",
        "  - Trade-off akurasi & stabilitas lebih baik.\n",
        "- **Catatan:**\n",
        "  - Random Forest tahan terhadap noise karena ensemble.\n",
        "  - Gradient Boosting “terarah” → perbaiki error sebelumnya → stabil.\n",
        "\n",
        "---\n",
        "\n",
        "*2. Model Paling Stabil: Logistic Regression & SVM*\n",
        "- **Kelebihan:**\n",
        "  - Gap train-test kecil → minim overfitting.\n",
        "  - Logistic Regression: sederhana & konsisten.\n",
        "  - SVM: menangkap pola kompleks dengan kernel sesuai.\n",
        "- **Kekurangan:**\n",
        "  - Akurasi lebih rendah dibanding Gradient Boosting/Random Forest.\n",
        "  - Cocok jika stabilitas lebih penting daripada akurasi maksimal.\n",
        "\n",
        "---\n",
        "\n",
        "*3. Decision Tree*\n",
        "- Bias rendah → bisa model pola kompleks.\n",
        "- Variance tinggi → mudah overfit.\n",
        "- Gap train-test besar → prediksi data baru kurang akurat.\n",
        "- **Kesimpulan:**  \n",
        "  Tidak direkomendasikan sendirian, sebaiknya gunakan dalam ensemble (misal Random Forest).\n",
        "\n",
        "---\n",
        "\n",
        "*4. Jaminan Teoretis*\n",
        "- **Hoeffding Bound:** menunjukkan selisih maksimum antara model terbaik & model terpilih.\n",
        "- **Rademacher Complexity:** rendah → risiko overfitting kecil.\n",
        "- **Interpretasi:** performa model (Gradient Boosting/Random Forest) dekat optimal, stabil di data baru.\n",
        "\n",
        "---\n"
      ],
      "metadata": {
        "id": "Xh-wNLUxXTwE"
      }
    },
    {
      "cell_type": "markdown",
      "source": [
        "Choose : **Gradient Boosting atau Random Forest karena beberapa alasan dari data empiris:**\n",
        "\n",
        "*1. Bias-Variance Trade-off*\n",
        "- **Gradient Boosting & Random Forest** punya bias rendah → bisa menangkap pola kompleks.  \n",
        "- Variance terkendali (terutama Random Forest karena ensemble) → prediksi lebih stabil.  \n",
        "- **Decision Tree tunggal** → variance tinggi → mudah overfit.  \n",
        "\n",
        "*2. Gap Train-Test*\n",
        "- **Gradient Boosting & Random Forest** menunjukkan gap train-test yang relatif kecil dibanding Decision Tree tunggal → artinya lebih baik generalisasi ke data baru.  \n",
        "- **Logistic Regression & SVM** gapnya kecil juga, tapi akurasinya lebih rendah.  \n",
        "\n",
        "*3. Performansi Praktis*\n",
        "- **Random Forest** tahan terhadap noise → aman untuk data yang bervariasi.  \n",
        "- **Gradient Boosting** “terarah” → memperbaiki error sebelumnya → lebih akurat.  \n",
        "\n",
        "*4. Jaminan Teoretis*\n",
        "- Berdasarkan **Hoeffding & Rademacher bounds**, performa model ini dekat optimal dan risiko overfitting rendah → memperkuat keputusan.\n"
      ],
      "metadata": {
        "id": "waRoCPDDYfyQ"
      }
    }
  ]
}